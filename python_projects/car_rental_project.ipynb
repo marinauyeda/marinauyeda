{
 "cells": [
  {
   "cell_type": "markdown",
   "id": "80dfce10-393d-4772-90d7-ea634f192750",
   "metadata": {},
   "source": [
    "# Car Rental Project\n",
    "## Goal\n",
    "\n",
    "The goal of this project is to develop an algorithm for a car rental company.\n",
    "The customer should be presented with car options and prices. After selecting the car and duration of rental, there's a grand total at the end.\n",
    "\n",
    "## Duration\n",
    "\n",
    "- Total amount of hours spent on the project: 4 hours\n",
    "\n",
    "## Tools and skills\n",
    "\n",
    "- Basic Python language\n",
    "- Developed on Jupyter Lab"
   ]
  },
  {
   "cell_type": "markdown",
   "id": "01fe61e6-a4c8-4bf9-b4e0-e1f9978f350b",
   "metadata": {},
   "source": [
    "### 1. Organizing cars and prices\n",
    "I began by storing cars and prices in tuples.\n",
    "\n",
    "The first thing I tested was a function to print cars and their prices in an organized manner (whether they were available or rented)."
   ]
  },
  {
   "cell_type": "code",
   "execution_count": 16,
   "id": "8b0cecb7-52b0-4e3d-9d18-1884c18afc92",
   "metadata": {},
   "outputs": [
    {
     "name": "stdout",
     "output_type": "stream",
     "text": [
      "==========\n",
      "Welcome to Car Rental Services\n",
      "==========\n",
      "[0] Chevrolet Tracker - $ 100/day\n",
      "[1] Chevrolet Onix - $ 80/day\n",
      "[2] Chevrolet Spin - $ 110/day\n",
      "[3] Hyundai HB20 - $ 85/day\n",
      "[4] Hyundai Tucson - $ 120/day\n",
      "[5] Fiat Uno - $ 60/day\n",
      "[6] Fiat Mobi - $ 70/day\n",
      "[7] Fiat Pulse - $ 130/day\n"
     ]
    }
   ],
   "source": [
    "cars = [\n",
    "    (\"Chevrolet Tracker\", 100),\n",
    "    (\"Chevrolet Onix\", 80),\n",
    "    (\"Chevrolet Spin\", 110),\n",
    "    (\"Hyundai HB20\", 85),\n",
    "    (\"Hyundai Tucson\", 120),\n",
    "    (\"Fiat Uno\", 60),\n",
    "    (\"Fiat Mobi\", 70),\n",
    "    (\"Fiat Pulse\", 130)\n",
    "]\n",
    "\n",
    "rented = []\n",
    "\n",
    "print(\"==========\")\n",
    "print(\"Welcome to Car Rental Services\")\n",
    "print(\"==========\")\n",
    "\n",
    "def show_car_list(car_list):\n",
    "    for i, car in enumerate(car_list):\n",
    "        print(\"[{}] {} - $ {}/day\".format(i, car[0], car[1]))\n",
    "\n",
    "show_car_list(cars)"
   ]
  },
  {
   "cell_type": "markdown",
   "id": "90ec6de9-90cb-4e4e-a988-4e74769396cb",
   "metadata": {},
   "source": [
    "### 2. Creating the first interface\n",
    "Now, it's time to create an interface for the program, with a basic greeting and clear page using os.\n",
    "\n",
    "At the same time, it was important to give the customer a sense of continuity, so the basic structure was designed to ask the user whether he/she wants to continue."
   ]
  },
  {
   "cell_type": "code",
   "execution_count": 19,
   "id": "9ca4ed54-b564-4701-aaeb-4f7ac8a5e711",
   "metadata": {},
   "outputs": [
    {
     "name": "stdout",
     "output_type": "stream",
     "text": [
      "\u001b[H\u001b[2J==========\n",
      "Welcome to Car Rental Services\n",
      "==========\n",
      "What would you like to do? \n",
      "0 - Show portfolio | 1 - Rent a car | 2 - Return a car\n"
     ]
    },
    {
     "name": "stdin",
     "output_type": "stream",
     "text": [
      " 1\n"
     ]
    },
    {
     "name": "stdout",
     "output_type": "stream",
     "text": [
      "\u001b[H\u001b[2J\n",
      "==========\n",
      "Type 0 to continue or 1 to exit:\n"
     ]
    },
    {
     "name": "stdin",
     "output_type": "stream",
     "text": [
      " 0\n"
     ]
    },
    {
     "name": "stdout",
     "output_type": "stream",
     "text": [
      "\u001b[H\u001b[2J==========\n",
      "Welcome to Car Rental Services\n",
      "==========\n",
      "What would you like to do? \n",
      "0 - Show portfolio | 1 - Rent a car | 2 - Return a car\n"
     ]
    },
    {
     "name": "stdin",
     "output_type": "stream",
     "text": [
      " 2\n"
     ]
    },
    {
     "name": "stdout",
     "output_type": "stream",
     "text": [
      "\u001b[H\u001b[2J\n",
      "==========\n",
      "Type 0 to continue or 1 to exit:\n"
     ]
    },
    {
     "name": "stdin",
     "output_type": "stream",
     "text": [
      " 1\n"
     ]
    }
   ],
   "source": [
    "import os\n",
    "\n",
    "cars = [\n",
    "    (\"Chevrolet Tracker\", 100),\n",
    "    (\"Chevrolet Onix\", 80),\n",
    "    (\"Chevrolet Spin\", 110),\n",
    "    (\"Hyundai HB20\", 85),\n",
    "    (\"Hyundai Tucson\", 120),\n",
    "    (\"Fiat Uno\", 60),\n",
    "    (\"Fiat Mobi\", 70),\n",
    "    (\"Fiat Pulse\", 130)\n",
    "]\n",
    "\n",
    "rented = []\n",
    "\n",
    "def show_car_list(car_list):\n",
    "    for i, car in enumerate(car_list):\n",
    "        print(\"[{}] {} - $ {}/day\".format(i, car[0], car[1]))\n",
    "\n",
    "while True:\n",
    "    os.system(\"clear\")\n",
    "    print(\"==========\")\n",
    "    print(\"Welcome to Car Rental Services\")\n",
    "    print(\"==========\")\n",
    "    print(\"What would you like to do? \\n0 - Show portfolio | 1 - Rent a car | 2 - Return a car\")\n",
    "    op = int(input())\n",
    "    \n",
    "    os.system(\"clear\")\n",
    "    if op == 0:\n",
    "        pass\n",
    "    elif op == 1:\n",
    "        pass\n",
    "    elif op == 2:\n",
    "        pass\n",
    "    \n",
    "    print(\"\")\n",
    "    print(\"==========\")\n",
    "    print(\"Type 0 to continue or 1 to exit:\")\n",
    "    if int(input()) == 1:\n",
    "        break"
   ]
  },
  {
   "cell_type": "markdown",
   "id": "b70df471-5586-4f2a-b7d7-cd717884e0e7",
   "metadata": {},
   "source": [
    "### 3. Adjusting options and content\n",
    "The next step is to adjust menus to show the correct content.\n",
    "\n",
    "Also, if someone choses to rent a car, I must take the car out of the list of available cars by using .append/.pop."
   ]
  },
  {
   "cell_type": "code",
   "execution_count": 22,
   "id": "8ea0cfe9-abc6-4131-86f7-a6243818e279",
   "metadata": {},
   "outputs": [
    {
     "name": "stdout",
     "output_type": "stream",
     "text": [
      "\u001b[H\u001b[2J==========\n",
      "Welcome to Car Rental Services\n",
      "==========\n",
      "What would you like to do? \n",
      "0 - Show portfolio | 1 - Rent a car | 2 - Return a car\n"
     ]
    },
    {
     "name": "stdin",
     "output_type": "stream",
     "text": [
      " 1\n"
     ]
    },
    {
     "name": "stdout",
     "output_type": "stream",
     "text": [
      "\u001b[H\u001b[2J[0] Chevrolet Tracker - $ 100/day\n",
      "[1] Chevrolet Onix - $ 80/day\n",
      "[2] Chevrolet Spin - $ 110/day\n",
      "[3] Hyundai HB20 - $ 85/day\n",
      "[4] Hyundai Tucson - $ 120/day\n",
      "[5] Fiat Uno - $ 60/day\n",
      "[6] Fiat Mobi - $ 70/day\n",
      "[7] Fiat Pulse - $ 130/day\n",
      "==========\n",
      "Select car code:\n"
     ]
    },
    {
     "name": "stdin",
     "output_type": "stream",
     "text": [
      " 4\n"
     ]
    },
    {
     "name": "stdout",
     "output_type": "stream",
     "text": [
      "For how many days?\n"
     ]
    },
    {
     "name": "stdin",
     "output_type": "stream",
     "text": [
      " 8\n"
     ]
    },
    {
     "name": "stdout",
     "output_type": "stream",
     "text": [
      "\u001b[H\u001b[2JYou have selected Hyundai Tucson for 8 day(s).\n",
      "Total amount is $ 960. Do you wish to proceed with rental?\n",
      "Type 0 for YES and 1 for NO\n"
     ]
    },
    {
     "name": "stdin",
     "output_type": "stream",
     "text": [
      " 0\n"
     ]
    },
    {
     "name": "stdout",
     "output_type": "stream",
     "text": [
      "Success! You have rented Hyundai Tucson for 8 day(s).\n",
      "\n",
      "==========\n",
      "Type 0 to continue or 1 to exit:\n"
     ]
    },
    {
     "name": "stdin",
     "output_type": "stream",
     "text": [
      " 0\n"
     ]
    },
    {
     "name": "stdout",
     "output_type": "stream",
     "text": [
      "\u001b[H\u001b[2J==========\n",
      "Welcome to Car Rental Services\n",
      "==========\n",
      "What would you like to do? \n",
      "0 - Show portfolio | 1 - Rent a car | 2 - Return a car\n"
     ]
    },
    {
     "name": "stdin",
     "output_type": "stream",
     "text": [
      " 0\n"
     ]
    },
    {
     "name": "stdout",
     "output_type": "stream",
     "text": [
      "\u001b[H\u001b[2J[0] Chevrolet Tracker - $ 100/day\n",
      "[1] Chevrolet Onix - $ 80/day\n",
      "[2] Chevrolet Spin - $ 110/day\n",
      "[3] Hyundai HB20 - $ 85/day\n",
      "[4] Fiat Uno - $ 60/day\n",
      "[5] Fiat Mobi - $ 70/day\n",
      "[6] Fiat Pulse - $ 130/day\n",
      "\n",
      "==========\n",
      "Type 0 to continue or 1 to exit:\n"
     ]
    },
    {
     "name": "stdin",
     "output_type": "stream",
     "text": [
      " 1\n"
     ]
    }
   ],
   "source": [
    "import os\n",
    "\n",
    "cars = [\n",
    "    (\"Chevrolet Tracker\", 100),\n",
    "    (\"Chevrolet Onix\", 80),\n",
    "    (\"Chevrolet Spin\", 110),\n",
    "    (\"Hyundai HB20\", 85),\n",
    "    (\"Hyundai Tucson\", 120),\n",
    "    (\"Fiat Uno\", 60),\n",
    "    (\"Fiat Mobi\", 70),\n",
    "    (\"Fiat Pulse\", 130)\n",
    "]\n",
    "\n",
    "rented = []\n",
    "\n",
    "def show_car_list(car_list):\n",
    "    for i, car in enumerate(car_list):\n",
    "        print(\"[{}] {} - $ {}/day\".format(i, car[0], car[1]))\n",
    "\n",
    "while True:\n",
    "    os.system(\"clear\")\n",
    "    print(\"==========\")\n",
    "    print(\"Welcome to Car Rental Services\")\n",
    "    print(\"==========\")\n",
    "    print(\"What would you like to do? \\n0 - Show portfolio | 1 - Rent a car | 2 - Return a car\")\n",
    "    op = int(input())\n",
    "    \n",
    "    os.system(\"clear\")\n",
    "    if op == 0:\n",
    "        show_car_list(cars)\n",
    "        \n",
    "    elif op == 1:\n",
    "        show_car_list(cars)\n",
    "        print(\"==========\")\n",
    "        print(\"Select car code:\")\n",
    "        car_code = int(input())\n",
    "        print(\"For how many days?\")\n",
    "        days = int(input())\n",
    "        os.system(\"clear\")\n",
    "        \n",
    "        print(\"You have selected {} for {} day(s).\".format(cars[car_code][0], days))\n",
    "        print(\"Total amount is $ {}. Do you wish to proceed with rental?\".format(days * cars[car_code][1]))\n",
    "        \n",
    "        print(\"Type 0 for YES and 1 for NO\")\n",
    "        confirmation = int(input())\n",
    "        if confirmation == 0:\n",
    "            print(\"Success! You have rented {} for {} day(s).\".format(cars[car_code][0], days))\n",
    "            rented.append(cars.pop(car_code))\n",
    "        \n",
    "    elif op == 2:\n",
    "        pass\n",
    "    \n",
    "    print(\"\")\n",
    "    print(\"==========\")\n",
    "    print(\"Type 0 to continue or 1 to exit:\")\n",
    "    if int(input()) == 1:\n",
    "        break"
   ]
  },
  {
   "cell_type": "markdown",
   "id": "919b135e-2bd8-4fd2-ae5a-fd77b7d92720",
   "metadata": {},
   "source": [
    "### 4. Finalizing the algorithm with returned rentals\n",
    "At last, it's time to wrap up the algorithm adjusting the menu for customers who return their rentals."
   ]
  },
  {
   "cell_type": "code",
   "execution_count": 27,
   "id": "eebdfbda-46ca-4dcc-aa34-fe1d7f00a654",
   "metadata": {},
   "outputs": [
    {
     "name": "stdout",
     "output_type": "stream",
     "text": [
      "\u001b[H\u001b[2J==========\n",
      "Welcome to Car Rental Services\n",
      "==========\n",
      "What would you like to do? \n",
      "0 - Show portfolio | 1 - Rent a car | 2 - Return a car\n"
     ]
    },
    {
     "name": "stdin",
     "output_type": "stream",
     "text": [
      " 1\n"
     ]
    },
    {
     "name": "stdout",
     "output_type": "stream",
     "text": [
      "\u001b[H\u001b[2J[0] Chevrolet Tracker - $ 100/day\n",
      "[1] Chevrolet Onix - $ 80/day\n",
      "[2] Chevrolet Spin - $ 110/day\n",
      "[3] Hyundai HB20 - $ 85/day\n",
      "[4] Hyundai Tucson - $ 120/day\n",
      "[5] Fiat Uno - $ 60/day\n",
      "[6] Fiat Mobi - $ 70/day\n",
      "[7] Fiat Pulse - $ 130/day\n",
      "==========\n",
      "Select car code:\n"
     ]
    },
    {
     "name": "stdin",
     "output_type": "stream",
     "text": [
      " 7\n"
     ]
    },
    {
     "name": "stdout",
     "output_type": "stream",
     "text": [
      "For how many days?\n"
     ]
    },
    {
     "name": "stdin",
     "output_type": "stream",
     "text": [
      " 8\n"
     ]
    },
    {
     "name": "stdout",
     "output_type": "stream",
     "text": [
      "\u001b[H\u001b[2JYou have selected Fiat Pulse for 8 day(s).\n",
      "Total amount is $ 1040. Do you wish to proceed with rental?\n",
      "Type 0 for YES and 1 for NO\n"
     ]
    },
    {
     "name": "stdin",
     "output_type": "stream",
     "text": [
      " 0\n"
     ]
    },
    {
     "name": "stdout",
     "output_type": "stream",
     "text": [
      "Success! You have rented Fiat Pulse for 8 day(s).\n",
      "\n",
      "==========\n",
      "Type 0 to continue or 1 to exit:\n"
     ]
    },
    {
     "name": "stdin",
     "output_type": "stream",
     "text": [
      " 0\n"
     ]
    },
    {
     "name": "stdout",
     "output_type": "stream",
     "text": [
      "\u001b[H\u001b[2J==========\n",
      "Welcome to Car Rental Services\n",
      "==========\n",
      "What would you like to do? \n",
      "0 - Show portfolio | 1 - Rent a car | 2 - Return a car\n"
     ]
    },
    {
     "name": "stdin",
     "output_type": "stream",
     "text": [
      " 0\n"
     ]
    },
    {
     "name": "stdout",
     "output_type": "stream",
     "text": [
      "\u001b[H\u001b[2J[0] Chevrolet Tracker - $ 100/day\n",
      "[1] Chevrolet Onix - $ 80/day\n",
      "[2] Chevrolet Spin - $ 110/day\n",
      "[3] Hyundai HB20 - $ 85/day\n",
      "[4] Hyundai Tucson - $ 120/day\n",
      "[5] Fiat Uno - $ 60/day\n",
      "[6] Fiat Mobi - $ 70/day\n",
      "\n",
      "==========\n",
      "Type 0 to continue or 1 to exit:\n"
     ]
    },
    {
     "name": "stdin",
     "output_type": "stream",
     "text": [
      " 0\n"
     ]
    },
    {
     "name": "stdout",
     "output_type": "stream",
     "text": [
      "\u001b[H\u001b[2J==========\n",
      "Welcome to Car Rental Services\n",
      "==========\n",
      "What would you like to do? \n",
      "0 - Show portfolio | 1 - Rent a car | 2 - Return a car\n"
     ]
    },
    {
     "name": "stdin",
     "output_type": "stream",
     "text": [
      " 2\n"
     ]
    },
    {
     "name": "stdout",
     "output_type": "stream",
     "text": [
      "\u001b[H\u001b[2JThese cars are currently rented. Which one would you like to return?\n",
      "[0] Fiat Pulse - $ 130/day\n",
      "\n",
      "Select the car code you wish to return:\n"
     ]
    },
    {
     "name": "stdin",
     "output_type": "stream",
     "text": [
      " 0\n"
     ]
    },
    {
     "name": "stdout",
     "output_type": "stream",
     "text": [
      "Thank you for returning Fiat Pulse.\n",
      "\n",
      "==========\n",
      "Type 0 to continue or 1 to exit:\n"
     ]
    },
    {
     "name": "stdin",
     "output_type": "stream",
     "text": [
      " 1\n"
     ]
    }
   ],
   "source": [
    "import os\n",
    "\n",
    "cars = [\n",
    "    (\"Chevrolet Tracker\", 100),\n",
    "    (\"Chevrolet Onix\", 80),\n",
    "    (\"Chevrolet Spin\", 110),\n",
    "    (\"Hyundai HB20\", 85),\n",
    "    (\"Hyundai Tucson\", 120),\n",
    "    (\"Fiat Uno\", 60),\n",
    "    (\"Fiat Mobi\", 70),\n",
    "    (\"Fiat Pulse\", 130)\n",
    "]\n",
    "\n",
    "rented = []\n",
    "\n",
    "def show_car_list(car_list):\n",
    "    for i, car in enumerate(car_list):\n",
    "        print(\"[{}] {} - $ {}/day\".format(i, car[0], car[1]))\n",
    "\n",
    "while True:\n",
    "    os.system(\"clear\")\n",
    "    print(\"==========\")\n",
    "    print(\"Welcome to Car Rental Services\")\n",
    "    print(\"==========\")\n",
    "    print(\"What would you like to do? \\n0 - Show portfolio | 1 - Rent a car | 2 - Return a car\")\n",
    "    op = int(input())\n",
    "    \n",
    "    os.system(\"clear\")\n",
    "    if op == 0:\n",
    "        show_car_list(cars)\n",
    "        \n",
    "    elif op == 1:\n",
    "        show_car_list(cars)\n",
    "        print(\"==========\")\n",
    "        print(\"Select car code:\")\n",
    "        car_code = int(input())\n",
    "        print(\"For how many days?\")\n",
    "        days = int(input())\n",
    "        os.system(\"clear\")\n",
    "        \n",
    "        print(\"You have selected {} for {} day(s).\".format(cars[car_code][0], days))\n",
    "        print(\"Total amount is $ {}. Do you wish to proceed with rental?\".format(days * cars[car_code][1]))\n",
    "        \n",
    "        print(\"Type 0 for YES and 1 for NO\")\n",
    "        confirmation = int(input())\n",
    "        if confirmation == 0:\n",
    "            print(\"Success! You have rented {} for {} day(s).\".format(cars[car_code][0], days))\n",
    "            rented.append(cars.pop(car_code))\n",
    "        \n",
    "    elif op == 2:\n",
    "        if len(rented) == 0:\n",
    "            print(\"There are no cars to return.\")\n",
    "        else:\n",
    "            print(\"These cars are currently rented. Which one would you like to return?\")\n",
    "            show_car_list(rented)\n",
    "            print(\"\")\n",
    "            print(\"Select the car code you wish to return:\")\n",
    "            code_return = int(input())\n",
    "            if confirmation == 0:\n",
    "                print(\"Thank you for returning {}.\".format(rented[code_return][0]))\n",
    "                cars.append(rented.pop(code_return))\n",
    "    \n",
    "    print(\"\")\n",
    "    print(\"==========\")\n",
    "    print(\"Type 0 to continue or 1 to exit:\")\n",
    "    if int(input()) == 1:\n",
    "        break"
   ]
  }
 ],
 "metadata": {
  "kernelspec": {
   "display_name": "Python 3 (ipykernel)",
   "language": "python",
   "name": "python3"
  },
  "language_info": {
   "codemirror_mode": {
    "name": "ipython",
    "version": 3
   },
   "file_extension": ".py",
   "mimetype": "text/x-python",
   "name": "python",
   "nbconvert_exporter": "python",
   "pygments_lexer": "ipython3",
   "version": "3.11.7"
  }
 },
 "nbformat": 4,
 "nbformat_minor": 5
}
