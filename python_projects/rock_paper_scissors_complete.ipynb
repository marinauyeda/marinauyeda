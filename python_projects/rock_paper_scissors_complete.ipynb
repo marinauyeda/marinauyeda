{
 "cells": [
  {
   "cell_type": "markdown",
   "id": "6f49013e-aebc-4253-a632-899a394308ee",
   "metadata": {},
   "source": [
    "# Rock, Paper, Scissors Project\n",
    "\n",
    "## Goal\n",
    "For this project, I created an algorithm to play rock, paper, scissors. There’s a scoreboard adding points for the person playing and for the computer. The computer chooses a random number to keep things interesting.\n",
    "\n",
    "## Duration\n",
    "\n",
    "- Total amount of hours spent on the project: 2 hours\n",
    "\n",
    "## Tools and skills\n",
    "\n",
    "- Basic Python language\n",
    "- Main code developed on VSCode to play on Mac Terminal and final file with markdown explanation on Jupyter Lab\n",
    "\n",
    "### 1. Importing main libraries and developing the interface\n",
    "For this project, I'll use only the random and os libraries.\n",
    "\n",
    "Also, the first thing to do is creating a list of moves and the main scoreboard and a simple interface."
   ]
  },
  {
   "cell_type": "code",
   "execution_count": 2,
   "id": "1d067a2c-4d28-4b4c-8ed1-8829a5734381",
   "metadata": {},
   "outputs": [
    {
     "name": "stdout",
     "output_type": "stream",
     "text": [
      "================================\n",
      "Welcome to Rock, Paper, Scissors\n",
      "================================\n"
     ]
    }
   ],
   "source": [
    "import random\n",
    "import os\n",
    "\n",
    "move_list = [\"rock\", \"paper\", \"scissors\"]\n",
    "player_count = 0\n",
    "computer_count = 0\n",
    "\n",
    "print(\"================================\")\n",
    "print(\"Welcome to Rock, Paper, Scissors\")\n",
    "print(\"================================\")"
   ]
  },
  {
   "cell_type": "markdown",
   "id": "c860e185-7cfc-4d8b-85b1-daaf86edeb44",
   "metadata": {},
   "source": [
    "### 2. Creating main functions\n",
    "\n",
    "The first function updates the scoreboard. The second function chooses a random number for the computer move from the three possible ones.\n",
    "\n",
    "The next function is designed to get the player's number. For this particular function, I chose a while structure, so it will keep demanding a valid input until the player chooses the right number. The main goal here was to make use of try/raise/except methods.\n",
    "\n",
    "If the player chooses a string for example, the code will accuse an error and it will ask for another number.\n",
    "\n",
    "We'll also need a function to select the winner, based on all possible outcomes."
   ]
  },
  {
   "cell_type": "code",
   "execution_count": 3,
   "id": "0bbd14ac-66c6-4ba6-8631-251cbc86e601",
   "metadata": {},
   "outputs": [
    {
     "name": "stdout",
     "output_type": "stream",
     "text": [
      "================================\n",
      "Welcome to Rock, Paper, Scissors\n",
      "================================\n"
     ]
    }
   ],
   "source": [
    "import random\n",
    "import os\n",
    "\n",
    "move_list = [\"rock\", \"paper\", \"scissors\"]\n",
    "player_count = 0\n",
    "computer_count = 0\n",
    "\n",
    "print(\"================================\")\n",
    "print(\"Welcome to Rock, Paper, Scissors\")\n",
    "print(\"================================\")\n",
    "\n",
    "def main_print():\n",
    "    print(\"================================\")\n",
    "    print(\"\\nSCOREBOARD\")\n",
    "    print(\"You: {}\".format(player_count))\n",
    "    print(\"Computer: {}\".format(computer_count))\n",
    "    print(\"\\n\")\n",
    "    print(\"Choose your move:\")\n",
    "    print(\"0 - Rock | 1 - Paper | 2 - Scissors\")\n",
    "\n",
    "def select_move():\n",
    "    return random.choice(move_list)\n",
    "\n",
    "def get_player_move():\n",
    "    while True:\n",
    "        try:\n",
    "            player_move = int(input())\n",
    "            if player_move not in [0, 1, 2]:\n",
    "                raise\n",
    "            return move_list[player_move]\n",
    "\n",
    "        except Exception as e:\n",
    "            print(e)\n",
    "\n",
    "def select_winner(p_move, c_move):\n",
    "    global player_count, computer_count\n",
    "\n",
    "    if p_move == \"paper\":\n",
    "        if c_move == \"rock\":\n",
    "            player_count += 1\n",
    "            return \"p\"\n",
    "\n",
    "        elif c_move == \"scissors\":\n",
    "            computer_count += 1\n",
    "            return \"c\"\n",
    "\n",
    "        else:\n",
    "            return \"d\"\n",
    "    \n",
    "    if p_move == \"rock\":\n",
    "        if c_move == \"scissors\":\n",
    "            player_count += 1\n",
    "            return \"p\"\n",
    "\n",
    "        elif c_move == \"paper\":\n",
    "            computer_count += 1\n",
    "            return \"c\"\n",
    "            \n",
    "        else:\n",
    "            return \"d\"\n",
    "\n",
    "    if p_move == \"scissors\":\n",
    "        if c_move == \"paper\":\n",
    "            player_count += 1\n",
    "            return \"p\"\n",
    "\n",
    "        elif c_move == \"rock\":\n",
    "            computer_count += 1\n",
    "            return \"c\"\n",
    "            \n",
    "        else:\n",
    "            return \"d\""
   ]
  },
  {
   "cell_type": "markdown",
   "id": "a68acae0-d108-4c9c-80f4-76a9223cd6ab",
   "metadata": {},
   "source": [
    "### 3. Adding while structure to repeat the code\n",
    "\n",
    "Finally, it's time to add an while structure to ask the player whether he/she wants to play again and update the scoreboard. For this final part, I decided to clear the screen on the Mac Terminal so there's less info on screen."
   ]
  },
  {
   "cell_type": "code",
   "execution_count": 4,
   "id": "23f16ff8-ee8a-4c15-8240-40bff8bbffb7",
   "metadata": {},
   "outputs": [
    {
     "name": "stdout",
     "output_type": "stream",
     "text": [
      "================================\n",
      "Welcome to Rock, Paper, Scissors\n",
      "================================\n",
      "================================\n",
      "\n",
      "SCOREBOARD\n",
      "You: 0\n",
      "Computer: 0\n",
      "\n",
      "\n",
      "Choose your move:\n",
      "0 - Rock | 1 - Paper | 2 - Scissors\n"
     ]
    },
    {
     "name": "stdin",
     "output_type": "stream",
     "text": [
      " 0\n"
     ]
    },
    {
     "name": "stdout",
     "output_type": "stream",
     "text": [
      "\n",
      "================================\n",
      "Your move: ROCK\n",
      "Computer move: PAPER\n",
      "You lose!\n",
      "================================\n",
      "Play again?\n",
      "0 - YES | 1 - NO\n"
     ]
    },
    {
     "name": "stdin",
     "output_type": "stream",
     "text": [
      " 0\n"
     ]
    },
    {
     "name": "stdout",
     "output_type": "stream",
     "text": [
      "\u001b[H\u001b[2J================================\n",
      "\n",
      "SCOREBOARD\n",
      "You: 0\n",
      "Computer: 1\n",
      "\n",
      "\n",
      "Choose your move:\n",
      "0 - Rock | 1 - Paper | 2 - Scissors\n"
     ]
    },
    {
     "name": "stdin",
     "output_type": "stream",
     "text": [
      " 1\n"
     ]
    },
    {
     "name": "stdout",
     "output_type": "stream",
     "text": [
      "\n",
      "================================\n",
      "Your move: PAPER\n",
      "Computer move: ROCK\n",
      "You win!\n",
      "================================\n",
      "Play again?\n",
      "0 - YES | 1 - NO\n"
     ]
    },
    {
     "name": "stdin",
     "output_type": "stream",
     "text": [
      " 0\n"
     ]
    },
    {
     "name": "stdout",
     "output_type": "stream",
     "text": [
      "\u001b[H\u001b[2J================================\n",
      "\n",
      "SCOREBOARD\n",
      "You: 1\n",
      "Computer: 1\n",
      "\n",
      "\n",
      "Choose your move:\n",
      "0 - Rock | 1 - Paper | 2 - Scissors\n"
     ]
    },
    {
     "name": "stdin",
     "output_type": "stream",
     "text": [
      " 2\n"
     ]
    },
    {
     "name": "stdout",
     "output_type": "stream",
     "text": [
      "\n",
      "================================\n",
      "Your move: SCISSORS\n",
      "Computer move: ROCK\n",
      "You lose!\n",
      "================================\n",
      "Play again?\n",
      "0 - YES | 1 - NO\n"
     ]
    },
    {
     "name": "stdin",
     "output_type": "stream",
     "text": [
      " 1\n"
     ]
    },
    {
     "name": "stdout",
     "output_type": "stream",
     "text": [
      "\u001b[H\u001b[2J"
     ]
    }
   ],
   "source": [
    "import random\n",
    "import os\n",
    "\n",
    "move_list = [\"rock\", \"paper\", \"scissors\"]\n",
    "player_count = 0\n",
    "computer_count = 0\n",
    "\n",
    "print(\"================================\")\n",
    "print(\"Welcome to Rock, Paper, Scissors\")\n",
    "print(\"================================\")\n",
    "\n",
    "def main_print():\n",
    "    print(\"================================\")\n",
    "    print(\"\\nSCOREBOARD\")\n",
    "    print(\"You: {}\".format(player_count))\n",
    "    print(\"Computer: {}\".format(computer_count))\n",
    "    print(\"\\n\")\n",
    "    print(\"Choose your move:\")\n",
    "    print(\"0 - Rock | 1 - Paper | 2 - Scissors\")\n",
    "\n",
    "def select_move():\n",
    "    return random.choice(move_list)\n",
    "\n",
    "def get_player_move():\n",
    "    while True:\n",
    "        try:\n",
    "            player_move = int(input())\n",
    "            if player_move not in [0, 1, 2]:\n",
    "                raise\n",
    "            return move_list[player_move]\n",
    "\n",
    "        except Exception as e:\n",
    "            print(e)\n",
    "\n",
    "def select_winner(p_move, c_move):\n",
    "    global player_count, computer_count\n",
    "\n",
    "    if p_move == \"paper\":\n",
    "        if c_move == \"rock\":\n",
    "            player_count += 1\n",
    "            return \"p\"\n",
    "\n",
    "        elif c_move == \"scissors\":\n",
    "            computer_count += 1\n",
    "            return \"c\"\n",
    "\n",
    "        else:\n",
    "            return \"d\"\n",
    "    \n",
    "    if p_move == \"rock\":\n",
    "        if c_move == \"scissors\":\n",
    "            player_count += 1\n",
    "            return \"p\"\n",
    "\n",
    "        elif c_move == \"paper\":\n",
    "            computer_count += 1\n",
    "            return \"c\"\n",
    "            \n",
    "        else:\n",
    "            return \"d\"\n",
    "\n",
    "    if p_move == \"scissors\":\n",
    "        if c_move == \"paper\":\n",
    "            player_count += 1\n",
    "            return \"p\"\n",
    "\n",
    "        elif c_move == \"rock\":\n",
    "            computer_count += 1\n",
    "            return \"c\"\n",
    "            \n",
    "        else:\n",
    "            return \"d\"\n",
    "\n",
    "again = 1\n",
    "while again == 1:\n",
    "    main_print()\n",
    "    player_move = get_player_move()\n",
    "    computer_move = select_move()\n",
    "    winner = select_winner(player_move, computer_move)\n",
    "\n",
    "    print(\"\")\n",
    "    print(\"================================\")\n",
    "    print(\"Your move: {}\".format(player_move.upper()))\n",
    "    print(\"Computer move: {}\".format(computer_move.upper()))\n",
    "\n",
    "    if winner == \"p\":\n",
    "        print(\"You win!\")\n",
    "    elif winner == \"c\":\n",
    "        print(\"You lose!\")\n",
    "    else:\n",
    "        print(\"It's a tie!\")\n",
    "    print(\"================================\")\n",
    "\n",
    "    while True:\n",
    "        print(\"Play again?\\n0 - YES | 1 - NO\")\n",
    "        next = int(input())\n",
    "        if next == 0:\n",
    "            break\n",
    "        elif next == 1:\n",
    "            again = 0\n",
    "            break\n",
    "    os.system(\"clear\")"
   ]
  },
  {
   "cell_type": "code",
   "execution_count": null,
   "id": "c28539ff-8421-4ca6-a644-08da8f5745c7",
   "metadata": {},
   "outputs": [],
   "source": []
  }
 ],
 "metadata": {
  "kernelspec": {
   "display_name": "Python 3 (ipykernel)",
   "language": "python",
   "name": "python3"
  },
  "language_info": {
   "codemirror_mode": {
    "name": "ipython",
    "version": 3
   },
   "file_extension": ".py",
   "mimetype": "text/x-python",
   "name": "python",
   "nbconvert_exporter": "python",
   "pygments_lexer": "ipython3",
   "version": "3.11.7"
  }
 },
 "nbformat": 4,
 "nbformat_minor": 5
}
